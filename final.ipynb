{
  "nbformat": 4,
  "nbformat_minor": 0,
  "metadata": {
    "colab": {
      "provenance": [],
      "include_colab_link": true
    },
    "kernelspec": {
      "name": "python3",
      "display_name": "Python 3"
    }
  },
  "cells": [
    {
      "cell_type": "markdown",
      "metadata": {
        "id": "view-in-github",
        "colab_type": "text"
      },
      "source": [
        "<a href=\"https://colab.research.google.com/github/Siamak-salimy/Deepsurvival/blob/main/final.ipynb\" target=\"_parent\"><img src=\"https://colab.research.google.com/assets/colab-badge.svg\" alt=\"Open In Colab\"/></a>"
      ]
    },
    {
      "cell_type": "code",
      "metadata": {
        "id": "7IPpMiilIfaj"
      },
      "source": [
        "from google.colab import drive\n",
        "drive.mount('/content/drive')\n",
        "\n",
        "!ls 'drive/My Drive'\n",
        "# تعریف مسیر"
      ],
      "execution_count": null,
      "outputs": []
    },
    {
      "cell_type": "code",
      "metadata": {
        "id": "T7PGbm0BJ3Ig"
      },
      "source": [
        "from sklearn.preprocessing import  normalize\n",
        "from keras.layers import Input, Dense, BatchNormalization, Dropout, GaussianNoise, GaussianDropout\n",
        "from keras.models import Model\n",
        "import keras\n",
        "from sklearn.metrics import mean_squared_error as mse\n",
        "from keras.utils import np_utils\n",
        "from keras.callbacks import CSVLogger, History\n",
        "import pandas as pd\n",
        "from random import random\n",
        "from keras.optimizers import Adam\n",
        "from keras.initializers import RandomNormal\n",
        "from keras.models import Model\n",
        "from keras.models import Input\n",
        "from keras.layers import Conv2D\n",
        "from keras.layers import Conv2DTranspose\n",
        "from keras.layers import LeakyReLU\n",
        "from keras.layers import Activation\n",
        "from keras.layers import Concatenate\n",
        "from matplotlib import pyplot\n",
        "from keras.layers import Input, Dense, BatchNormalization, Dropout, GaussianNoise, GaussianDropout\n",
        "from keras.models import Model\n",
        "import keras.backend as backend\n",
        "import numpy as np\n",
        "from sklearn.preprocessing import LabelEncoder, normalize\n",
        "from sklearn.metrics import mean_absolute_error as mae\n",
        "from sklearn.metrics import mean_squared_error as mse\n",
        "from keras.utils import np_utils\n",
        "from keras.callbacks import CSVLogger, History\n",
        "import pandas as pd\n",
        "np.random.seed(seed=2019)\n",
        "#تعریف کتابخانه ها  و پیش نیازها"
      ],
      "execution_count": null,
      "outputs": []
    },
    {
      "cell_type": "code",
      "metadata": {
        "id": "Kz1_CA_DS2fh",
        "colab": {
          "base_uri": "https://localhost:8080/",
          "height": 36
        },
        "outputId": "0b96ea67-08b3-415f-8d0e-749a565ef11b"
      },
      "source": [
        "import pandas as pd\n",
        "pd.__version__ #must be 0.23.0"
      ],
      "execution_count": null,
      "outputs": [
        {
          "output_type": "execute_result",
          "data": {
            "application/vnd.google.colaboratory.intrinsic+json": {
              "type": "string"
            },
            "text/plain": [
              "'1.1.5'"
            ]
          },
          "metadata": {
            "tags": []
          },
          "execution_count": 3
        }
      ]
    },
    {
      "cell_type": "code",
      "metadata": {
        "id": "Hum5w62yXG_o"
      },
      "source": [
        "! pip install pandas==0.25.0"
      ],
      "execution_count": null,
      "outputs": []
    },
    {
      "cell_type": "code",
      "metadata": {
        "colab": {
          "base_uri": "https://localhost:8080/",
          "height": 36
        },
        "id": "NqpJOgUu9Xom",
        "outputId": "f3e2d3b5-45cb-4db3-bf42-ffe83b34e740"
      },
      "source": [
        "pd.__version__"
      ],
      "execution_count": null,
      "outputs": [
        {
          "output_type": "execute_result",
          "data": {
            "application/vnd.google.colaboratory.intrinsic+json": {
              "type": "string"
            },
            "text/plain": [
              "'0.25.0'"
            ]
          },
          "metadata": {
            "tags": []
          },
          "execution_count": 3
        }
      ]
    },
    {
      "cell_type": "code",
      "metadata": {
        "id": "xt9-SwWyKUXc"
      },
      "source": [
        "path=\"drive/My Drive/data/\"+\"\"\n",
        "df_m_rna_address=path+\"all.xlsx\"\n",
        "df=pd.read_excel(df_m_rna_address,header=0)\n",
        "df.drop([\"GeneSymbol\"],axis=1,inplace=True)\n",
        "df_m_rna = pd.DataFrame.as_matrix(df).transpose()\n",
        "m_rna = normalize(X=df_m_rna, axis=0, norm=\"max\") #  * min/max scaling\n",
        "m_rna_indices = np.arange(m_rna.shape[0])       #  * prepaire to shuffle\n",
        "np.random.shuffle(m_rna_indices)\n",
        "m_rna[m_rna_indices]\n",
        "mrna_train=m_rna[:int(0.85*m_rna.shape[0])]     # * sefr ta 85 darsad dadeha\n",
        "mrna_test=m_rna[int(0.85*m_rna.shape[0]):]    #    *  inttttttttt    baghimande dadeha ta marze 85 ta 100\n",
        "#خواندن داده ها\n",
        "\n",
        "#مشاهده شمای دیتا"
      ],
      "execution_count": null,
      "outputs": []
    },
    {
      "cell_type": "code",
      "metadata": {
        "id": "la4xrd-jTKE3"
      },
      "source": [
        "df_m_rna = pd.DataFrame.as_matrix(df).transpose() #* transpose"
      ],
      "execution_count": null,
      "outputs": []
    },
    {
      "cell_type": "code",
      "metadata": {
        "id": "jgg_xfGJSDBw"
      },
      "source": [
        "df_m_rna = pd.DataFrame.values().transpose()"
      ],
      "execution_count": null,
      "outputs": []
    },
    {
      "cell_type": "code",
      "metadata": {
        "id": "W80nCJ3YTwHS"
      },
      "source": [
        "df_m_rna=np.matrix (df.values ()).transpose()"
      ],
      "execution_count": null,
      "outputs": []
    },
    {
      "cell_type": "code",
      "metadata": {
        "id": "Z4TLycq-PnCt"
      },
      "source": [
        "(df.head())\n",
        "df.columns"
      ],
      "execution_count": null,
      "outputs": []
    },
    {
      "cell_type": "code",
      "metadata": {
        "id": "cCFaAJPpMAUU"
      },
      "source": [
        "batch_size=32\n",
        "epochs=nb_epochs=10 # برای ایپوک های بیشتر\n",
        "inputs = Input(shape=(m_rna.shape[1],), name=\"inputs\")\n",
        "inputs_noise = GaussianNoise(stddev=0.0)(inputs)\n",
        "inputs_noise = GaussianDropout(rate=0.0 ** 2 / (1 + 0.0 ** 2))(inputs_noise)\n",
        "inputs_0 = BatchNormalization(name=\"inputs_0\")(inputs_noise)\n",
        "inputs_1 = Dense(1000, activation=\"linear\", name=\"inputs_1\")(inputs_0) #softmax to linear  100 to 1000\n",
        "\n",
        "\n",
        "#\n",
        "inputs_00 = BatchNormalization(name=\"inputs_00\")(inputs_1)\n",
        "inputs_11 = Dense(100, activation=\"tanh\", name=\"inputs_11\")(inputs_00) # ( till dense)\n",
        "#\n",
        "\n",
        "inputs_2 = BatchNormalization(name=\"inputs_2\")(inputs_11)\n",
        "encoded = Dense(units=1000, activation='softmax', name='encoded')(inputs_2) # relu to softmax تغییر فانکشن و تست سیگموئید\n",
        "decoded_tcga = Dense(units=m_rna.shape[1], activation='softmax', name=\"m_rna\")(encoded) # linear to softmax\n",
        "\n",
        "scae = Model(inputs=inputs, outputs=decoded_tcga)\n",
        "\n",
        "\n",
        "scae.compile(optimizer='RMSprop',loss=\"mse\")\n",
        "\n",
        "result_folder = path\n",
        "\n",
        "file_name = \"best-scae.log\"\n",
        "\n",
        "csv_logger = CSVLogger(result_folder + file_name)\n",
        "history = History()\n",
        "\n",
        "scae.fit(mrna_train, mrna_train, batch_size=batch_size, epochs=nb_epochs,callbacks=[csv_logger, history],\n",
        "          validation_data=(mrna_test, mrna_test), verbose=1)\n",
        "\n",
        "print(history.history.keys())\n",
        "print(\"fitting has just been finished\")\n",
        "# save the model and encoded-layer output\n",
        "\n",
        "scae.save(filepath=result_folder + \"scae.h5\")\n"
      ],
      "execution_count": null,
      "outputs": []
    },
    {
      "cell_type": "code",
      "metadata": {
        "id": "aZsUHzvVWvfW"
      },
      "source": [
        "import tensorflow\n",
        "tensorflow.__version__\n"
      ],
      "execution_count": null,
      "outputs": []
    },
    {
      "cell_type": "code",
      "metadata": {
        "id": "-C4O3RW8XatR"
      },
      "source": [
        "! pip install tensorflow==1.10.0"
      ],
      "execution_count": null,
      "outputs": []
    },
    {
      "cell_type": "code",
      "metadata": {
        "id": "SHOgQkQCMjSQ"
      },
      "source": [
        "\n",
        "model_a=keras.models.load_model(result_folder + \"scae.h5\")\n",
        "model_a.compile(optimizer='RMSprop',loss=\"mse\")  #nadam to RMSprop\n",
        "#ذخیره مدل"
      ],
      "execution_count": null,
      "outputs": []
    },
    {
      "cell_type": "code",
      "metadata": {
        "id": "wZdZZn7zPWJu"
      },
      "source": [
        "# وی لاس خیلی زیاد شود !!!"
      ],
      "execution_count": null,
      "outputs": []
    },
    {
      "cell_type": "code",
      "metadata": {
        "id": "AHnGnabnPXHM"
      },
      "source": [],
      "execution_count": null,
      "outputs": []
    },
    {
      "cell_type": "code",
      "metadata": {
        "id": "HiIj0RHU29f6"
      },
      "source": [],
      "execution_count": null,
      "outputs": []
    },
    {
      "cell_type": "code",
      "metadata": {
        "id": "RBUsTHWcNE6e"
      },
      "source": [
        "inputs = Input(shape=(m_rna.shape[1],), name=\"inputs\")\n",
        "inputs_noise = GaussianNoise(stddev=0.0)(inputs)\n",
        "inputs_noise = GaussianDropout(rate=0.0 ** 2 / (1 + 0.0 ** 2))(inputs_noise)\n",
        "inputs_0 = BatchNormalization(name=\"inputs_0\")(inputs_noise)\n",
        "inputs_1 = Dense(100, activation=\"softmax\", name=\"inputs_1\")(inputs_0)# relu to softmax\n",
        "model_b=Model(inputs=inputs,outputs=inputs_1)#Changed by me output to outputs\n",
        "#شبکه تا لایه انکود\n",
        "\n",
        "\n",
        "batch_size=32\n",
        "epochs=nb_epochs=10 # برای ایپوک های بیشتر\n",
        "inputs = Input(shape=(m_rna.shape[1],), name=\"inputs\")\n",
        "inputs_noise = GaussianNoise(stddev=0.0)(inputs)\n",
        "inputs_noise = GaussianDropout(rate=0.0 ** 2 / (1 + 0.0 ** 2))(inputs_noise)\n",
        "inputs_0 = BatchNormalization(name=\"inputs_0\")(inputs_noise)\n",
        "inputs_1 = Dense(1000, activation=\"linear\", name=\"inputs_1\")(inputs_0) #softmax to linear  100 to 1000\n",
        "\n",
        "\n",
        "#\n",
        "inputs_00 = BatchNormalization(name=\"inputs_00\")(inputs_1)\n",
        "inputs_11 = Dense(100, activation=\"tanh\", name=\"inputs_11\")(inputs_00) # ( till dense)\n",
        "#\n",
        "model_b=Model(inputs=inputs,outputs=inputs_11)#Changed by me output to outputs"
      ],
      "execution_count": null,
      "outputs": []
    },
    {
      "cell_type": "code",
      "metadata": {
        "id": "LoNEirarNbc0",
        "colab": {
          "base_uri": "https://localhost:8080/"
        },
        "outputId": "78ae979f-32c3-4842-8535-48e47cca11b2"
      },
      "source": [
        "model_a.summary() # نمایش شبکه"
      ],
      "execution_count": null,
      "outputs": [
        {
          "output_type": "stream",
          "text": [
            "Model: \"model_2\"\n",
            "_________________________________________________________________\n",
            "Layer (type)                 Output Shape              Param #   \n",
            "=================================================================\n",
            "inputs (InputLayer)          [(None, 42530)]           0         \n",
            "_________________________________________________________________\n",
            "gaussian_noise_2 (GaussianNo (None, 42530)             0         \n",
            "_________________________________________________________________\n",
            "gaussian_dropout_2 (Gaussian (None, 42530)             0         \n",
            "_________________________________________________________________\n",
            "inputs_0 (BatchNormalization (None, 42530)             170120    \n",
            "_________________________________________________________________\n",
            "inputs_1 (Dense)             (None, 100)               4253100   \n",
            "_________________________________________________________________\n",
            "inputs_2 (BatchNormalization (None, 100)               400       \n",
            "_________________________________________________________________\n",
            "m_rna (Dense)                (None, 42530)             4295530   \n",
            "=================================================================\n",
            "Total params: 8,719,150\n",
            "Trainable params: 8,633,890\n",
            "Non-trainable params: 85,260\n",
            "_________________________________________________________________\n"
          ],
          "name": "stdout"
        }
      ]
    },
    {
      "cell_type": "code",
      "metadata": {
        "id": "Ck8d5HXcODNv"
      },
      "source": [
        "for i in range(5):\n",
        "  model_b.layers[i].set_weights(model_a.layers[i].get_weights())\n",
        "# وزن یالها را به شبکه دوم منتقل میکند"
      ],
      "execution_count": null,
      "outputs": []
    },
    {
      "cell_type": "code",
      "metadata": {
        "id": "xG0J1VW3_cQF"
      },
      "source": [
        "model_b.compile(optimizer='nadam',loss=\"mse\")#وزن دهی به شبکه  nadam to RMSprop"
      ],
      "execution_count": null,
      "outputs": []
    },
    {
      "cell_type": "code",
      "metadata": {
        "id": "phqgSdxE_1HS"
      },
      "source": [
        "mrna_coded=model_b.predict(mrna_train) #پیش بینی"
      ],
      "execution_count": null,
      "outputs": []
    },
    {
      "cell_type": "code",
      "metadata": {
        "id": "Z-chs06t_7BB",
        "colab": {
          "base_uri": "https://localhost:8080/"
        },
        "outputId": "bc7da8e6-48a2-4f04-8fbd-173ff3c806df"
      },
      "source": [
        "mrna_coded.shape"
      ],
      "execution_count": null,
      "outputs": [
        {
          "output_type": "execute_result",
          "data": {
            "text/plain": [
              "(210, 100)"
            ]
          },
          "metadata": {
            "tags": []
          },
          "execution_count": 32
        }
      ]
    },
    {
      "cell_type": "code",
      "metadata": {
        "id": "GjSOImRcAREY"
      },
      "source": [
        "np.savetxt(X=mrna_coded, fname=result_folder+\"all-100\"+\".csv\", delimiter=\",\", fmt='%1.3f')"
      ],
      "execution_count": null,
      "outputs": []
    },
    {
      "cell_type": "code",
      "metadata": {
        "id": "XU3tenvgBEqo"
      },
      "source": [
        "mrna_coded=model_b.predict(m_rna)\n",
        "\n"
      ],
      "execution_count": null,
      "outputs": []
    },
    {
      "cell_type": "code",
      "metadata": {
        "id": "PG7VWINyc2g3"
      },
      "source": [
        "import numpy\n",
        "a = numpy.append(np.reshape(np.array(df.columns),(210,1)),mrna_coded,axis=1)#\n"
      ],
      "execution_count": null,
      "outputs": []
    },
    {
      "cell_type": "code",
      "metadata": {
        "id": "Y6FueCpfdij4",
        "colab": {
          "base_uri": "https://localhost:8080/"
        },
        "outputId": "060fa5d5-5439-468c-dfaa-9b399438014f"
      },
      "source": [
        "\n",
        "np.reshape(np.array(df.columns),(210,1)).shape #"
      ],
      "execution_count": null,
      "outputs": [
        {
          "output_type": "execute_result",
          "data": {
            "text/plain": [
              "(210, 1)"
            ]
          },
          "metadata": {
            "tags": []
          },
          "execution_count": 34
        }
      ]
    },
    {
      "cell_type": "code",
      "metadata": {
        "id": "Wae5hWp9eksy"
      },
      "source": [
        "a\n"
      ],
      "execution_count": null,
      "outputs": []
    },
    {
      "cell_type": "code",
      "metadata": {
        "id": "bVoM4Mz2bMA7"
      },
      "source": [
        "fm=['%s ']+['%1.3f']*100# 2000 to 100 تعداد فیچرهای لایه دنس"
      ],
      "execution_count": null,
      "outputs": []
    },
    {
      "cell_type": "code",
      "metadata": {
        "id": "vkiELLlWekf7"
      },
      "source": [
        "np.savetxt(X=a, fname=result_folder+\"all_coded_name_1400\"+\".csv\", delimiter=\",\", fmt=fm)"
      ],
      "execution_count": null,
      "outputs": []
    },
    {
      "cell_type": "code",
      "metadata": {
        "id": "7yQLQIyVCtnk"
      },
      "source": [
        "keras.utils.plot_model(\n",
        "    model_a, to_file='model.png', show_shapes=False, show_layer_names=True,  # model_a ya model _b\n",
        "    rankdir='TB', expand_nested=False, dpi=96\n",
        ")"
      ],
      "execution_count": null,
      "outputs": []
    },
    {
      "cell_type": "code",
      "metadata": {
        "id": "wG5TZ9WaCukL"
      },
      "source": [],
      "execution_count": null,
      "outputs": []
    }
  ]
}